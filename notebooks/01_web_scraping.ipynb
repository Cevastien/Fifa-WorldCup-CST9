{
  "cells": [
    {
      "cell_type": "markdown",
      "metadata": {},
      "source": [
        "# 01. Web Scraping - FIFA World Cup Historical Data\n",
        "\n",
        "**Team Members**: Gella, Oclarit, Planas, Pulido\n",
        "**Date**: October 2025\n",
        "\n",
        "## Objective\n",
        "Extract historical FIFA World Cup match data from Wikipedia to build our training dataset.\n",
        "\n",
        "## Tasks\n",
        "- Scrape match results from 1930-2022\n",
        "- Clean and standardize team names\n",
        "- Handle missing data\n",
        "- Export to CSV for further processing\n",
        "\n",
        "## Team Contributions\n",
        "- **[Team Member]**: [Specific task/contribution]\n",
        "- **[Team Member]**: [Specific task/contribution]\n",
        "- **[Team Member]**: [Specific task/contribution]\n",
        "- **[Team Member]**: [Specific task/contribution]\n"
      ]
    },
    {
      "cell_type": "code",
      "execution_count": null,
      "metadata": {},
      "outputs": [],
      "source": [
        "# Import libraries\n",
        "import requests\n",
        "from bs4 import BeautifulSoup\n",
        "import pandas as pd\n",
        "import time\n",
        "import re\n",
        "\n",
        "# Add your web scraping code here\n",
        "print(\"Web scraping implementation goes here\")\n"
      ]
    }
  ],
  "metadata": {
    "language_info": {
      "name": "python"
    }
  },
  "nbformat": 4,
  "nbformat_minor": 2
}
