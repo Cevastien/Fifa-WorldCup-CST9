{
  "cells": [
    {
      "cell_type": "markdown",
      "metadata": {},
      "source": [
        "# 02. Data Cleaning and Preprocessing\n",
        "\n",
        "**Team Members**: Gella, Oclarit, Planas, Pulido\n",
        "**Date**: October 2025\n",
        "\n",
        "## Objective\n",
        "Clean and preprocess the scraped FIFA World Cup data for machine learning model training.\n",
        "\n",
        "## Tasks\n",
        "- Handle missing values\n",
        "- Standardize team names\n",
        "- Create consistent data format\n",
        "- Feature engineering\n",
        "- Export clean dataset\n",
        "\n",
        "## Team Contributions\n",
        "- **[Team Member]**: [Specific task/contribution]\n",
        "- **[Team Member]**: [Specific task/contribution]\n",
        "- **[Team Member]**: [Specific task/contribution]\n",
        "- **[Team Member]**: [Specific task/contribution]\n"
      ]
    },
    {
      "cell_type": "code",
      "execution_count": null,
      "metadata": {},
      "outputs": [],
      "source": [
        "# Import libraries\n",
        "import pandas as pd\n",
        "import numpy as np\n",
        "import re\n",
        "\n",
        "# Load raw data\n",
        "df = pd.read_csv('../data/raw/fifa_worldcup_historical_data.csv')\n",
        "\n",
        "# Data cleaning code goes here\n",
        "print(\"Data cleaning implementation goes here\")\n"
      ]
    }
  ],
  "metadata": {
    "language_info": {
      "name": "python"
    }
  },
  "nbformat": 4,
  "nbformat_minor": 2
}
